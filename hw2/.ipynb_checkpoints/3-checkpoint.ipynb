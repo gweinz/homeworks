{
 "cells": [
  {
   "cell_type": "code",
   "execution_count": 43,
   "metadata": {},
   "outputs": [],
   "source": [
    "import pandas as pd \n",
    "import numpy as np\n",
    "from sklearn.metrics import mean_squared_error\n",
    "\n",
    "filename = 'ml-latest-small/ratings_train.csv'\n",
    "df = pd.read_csv(filename)\n",
    "\n",
    "def get_avg_ratings(trainfile):\n",
    "    ret_dict = {}\n",
    "    df = pd.read_csv(trainfile) \n",
    "\n",
    "    for index, row in df.iterrows():\n",
    "\n",
    "        movie = int(row['movieId'])\n",
    "        rating = row['rating']\n",
    "        usr = int(row['userId'])\n",
    "        if usr in ret_dict:\n",
    "            ret_dict[usr-1].append(rating)\n",
    "        else:\n",
    "            ret_dict[usr-1] = [rating]\n",
    "\n",
    "    for r in ret_dict:\n",
    "        ret_dict[r] = sum(ret_dict[r])/len(ret_dict[r])\n",
    "    return ret_dict\n",
    "def get_movie_avg_ratings(trainfile):\n",
    "    ret_dict = {}\n",
    "    df = pd.read_csv(trainfile) \n",
    "\n",
    "    for index, row in df.iterrows():\n",
    "\n",
    "        movie = int(row['movieId'])\n",
    "        rating = row['rating']\n",
    "        usr = int(row['userId'])\n",
    "        if movie in ret_dict:\n",
    "            ret_dict[movie].append(rating)\n",
    "        else:\n",
    "            ret_dict[movie] = [rating]\n",
    "\n",
    "    for r in ret_dict:\n",
    "        ret_dict[r] = sum(ret_dict[r])/len(ret_dict[r])\n",
    "        \n",
    "    return ret_dict\n",
    "        \n",
    "def get_usr_rat_dict(trainfile):\n",
    "    ret_dict = {}\n",
    "    df = pd.read_csv(trainfile)   \n",
    "\n",
    "    for index, row in df.iterrows():\n",
    "\n",
    "        movie = int(row['movieId'])\n",
    "        rating = row['rating']\n",
    "        usr = int(row['userId'])\n",
    "\n",
    "        ret_dict[(usr, movie)] = rating \n",
    "\n",
    "    return ret_dict\n",
    "\n",
    "def get_watched(trainfile):\n",
    "    ret_dict = {}\n",
    "    df = pd.read_csv(trainfile)  \n",
    "\n",
    "    for index, row in df.iterrows():\n",
    "\n",
    "        movie = int(row['movieId'])\n",
    "        rating = row['rating']\n",
    "        usr = int(row['userId'])\n",
    "\n",
    "        if usr in ret_dict:\n",
    "            ret_dict[usr].append(movie)\n",
    "        else:\n",
    "            ret_dict[usr] = [movie]\n",
    "\n",
    "    return ret_dict\n"
   ]
  },
  {
   "cell_type": "code",
   "execution_count": 73,
   "metadata": {},
   "outputs": [],
   "source": [
    "df_ratings = pd.read_csv('ml-latest-small/ratings_train.csv')\n",
    "df = df_ratings.pivot(\n",
    "    index='userId',\n",
    "    columns='movieId',\n",
    "    values='rating'\n",
    ").fillna(0)\n"
   ]
  },
  {
   "cell_type": "code",
   "execution_count": 66,
   "metadata": {},
   "outputs": [],
   "source": [
    "\n",
    "mov_map = {}\n",
    "\n",
    "i = 0\n",
    "\n",
    "list_movies = df_ratings['movieId'].unique()\n",
    "c = len(list_movies)\n",
    "idx_map = {}\n",
    "for mv in list_movies:\n",
    "    mov_map[mv] = i \n",
    "    idx_map[i] = mv\n",
    "    i+=1\n"
   ]
  },
  {
   "cell_type": "code",
   "execution_count": 67,
   "metadata": {},
   "outputs": [],
   "source": [
    "m_avgs = get_movie_avg_ratings('ml-latest-small/ratings_train.csv')\n",
    "u_avgs = get_avg_ratings('ml-latest-small/ratings_train.csv')"
   ]
  },
  {
   "cell_type": "code",
   "execution_count": 68,
   "metadata": {},
   "outputs": [],
   "source": [
    "global_avgs = df.replace(0, np.NaN).mean()\n",
    "g_avg = sum(global_avgs)/len(global_avgs)"
   ]
  },
  {
   "cell_type": "code",
   "execution_count": 74,
   "metadata": {},
   "outputs": [],
   "source": [
    "X = np.array(df)\n",
    "\n",
    "rows = X.shape[0]\n",
    "cols = X.shape[1]"
   ]
  },
  {
   "cell_type": "code",
   "execution_count": 75,
   "metadata": {},
   "outputs": [],
   "source": [
    "for i in range(rows):\n",
    "    u_a = u_avgs[i]\n",
    "    for j in range(cols):\n",
    "      \n",
    "        movie = idx_map[j]\n",
    "        \n",
    "        m_a = m_avgs[movie]\n",
    "        m_bias = m_a - g_avg\n",
    "        u_bias = u_a - g_avg\n",
    "        \n",
    "        if X[i][j] > 0:\n",
    "            X[i][j] -= m_bias\n",
    "            X[i][j] -= u_bias"
   ]
  },
  {
   "cell_type": "code",
   "execution_count": 76,
   "metadata": {},
   "outputs": [
    {
     "data": {
      "text/plain": [
       "array([[-1.74143667, -2.45882798,  1.60063148, ..., -1.45882798,\n",
       "        -1.95882798, -1.95882798],\n",
       "       [-1.74143667, -2.45882798, -2.39936852, ..., -1.45882798,\n",
       "        -1.95882798, -1.95882798],\n",
       "       [ 2.75856333,  2.04117202,  2.10063148, ...,  3.04117202,\n",
       "         2.54117202,  2.54117202],\n",
       "       ...,\n",
       "       [ 1.25856333,  0.04117202,  0.10063148, ..., -0.95882798,\n",
       "        -1.45882798, -1.45882798],\n",
       "       [ 2.25856333, -1.45882798, -1.39936852, ..., -0.45882798,\n",
       "        -0.95882798, -0.95882798],\n",
       "       [ 5.25856333, -0.45882798, -0.39936852, ...,  0.54117202,\n",
       "         0.04117202,  0.04117202]])"
      ]
     },
     "execution_count": 76,
     "metadata": {},
     "output_type": "execute_result"
    }
   ],
   "source": [
    "X"
   ]
  },
  {
   "cell_type": "code",
   "execution_count": 77,
   "metadata": {},
   "outputs": [
    {
     "name": "stdout",
     "output_type": "stream",
     "text": [
      "A.B: [[ 0.66996923 -1.34307841  2.9317246  ...  1.94561438  0.08278129\n",
      "   1.94781513]\n",
      " [-1.68603286 -2.5402559   2.0130544  ... -0.41739377 -0.98906748\n",
      "   1.40609617]\n",
      " [-1.56569886 -2.31524547  2.02476673 ... -0.12984461 -1.07726585\n",
      "  -0.05482109]\n",
      " ...\n",
      " [-1.48054654 -1.44475303  3.06270306 ... -0.98386282 -0.44486211\n",
      "   0.68068394]\n",
      " [-1.98289073 -1.94430449  2.56300325 ... -1.48834251 -0.94526273\n",
      "   0.18139837]\n",
      " [-1.99303377 -1.94239148  2.54849113 ... -1.43497652 -0.94893707\n",
      "   0.21719923]]\n",
      "MSE: 0.14129514442381783\n"
     ]
    }
   ],
   "source": [
    "\n",
    "X = np.transpose(X)\n",
    "\n",
    "u, s, vh = np.linalg.svd(X)\n",
    "\n",
    "s = np.sqrt(s)\n",
    "s_u = np.zeros(X.shape)\n",
    "for i, v in enumerate(s):\n",
    "    s_u[i, i] = v\n",
    "\n",
    "s_v = np.diag(s)\n",
    "\n",
    "r =10\n",
    "\n",
    "A = np.matmul(u, s_u)[:, :r]\n",
    "# print(s_v.shape, vh.shape)\n",
    "B = np.matmul(s_v, vh)[:r, :]\n",
    "AB = np.matmul(A, B)\n",
    "loss = np.mean((AB - X)**2)\n",
    "\n",
    "# print('A:', A)\n",
    "# print('B:', B)\n",
    "print('A.B:', AB)\n",
    "print('MSE:', loss)\n"
   ]
  },
  {
   "cell_type": "code",
   "execution_count": 50,
   "metadata": {},
   "outputs": [
    {
     "data": {
      "text/plain": [
       "(9364, 610)"
      ]
     },
     "execution_count": 50,
     "metadata": {},
     "output_type": "execute_result"
    }
   ],
   "source": [
    "AB.shape"
   ]
  },
  {
   "cell_type": "code",
   "execution_count": 78,
   "metadata": {},
   "outputs": [],
   "source": [
    "newX = np.transpose(AB)\n",
    "for i in range(rows):\n",
    "    u_a = u_avgs[i]\n",
    "    for j in range(cols):\n",
    "      \n",
    "        movie = idx_map[j]\n",
    "        \n",
    "        m_a = m_avgs[movie]\n",
    "        m_bias = m_a - g_avg\n",
    "        u_bias = u_a - g_avg\n",
    "        \n",
    "        \n",
    "        newX[i][j] += m_bias\n",
    "        newX[i][j] += u_bias"
   ]
  },
  {
   "cell_type": "code",
   "execution_count": 79,
   "metadata": {},
   "outputs": [
    {
     "data": {
      "text/plain": [
       "array([[ 2.41140591,  0.77279512,  0.83366966, ..., -0.02171857,\n",
       "        -0.02406276, -0.0342058 ],\n",
       "       [ 0.39835826, -0.08142793,  0.08412305, ...,  0.01407495,\n",
       "         0.01452349,  0.01643649],\n",
       "       [ 0.17316127, -0.02811762, -0.07586475, ...,  0.02153103,\n",
       "         0.02183122,  0.00731911],\n",
       "       ...,\n",
       "       [ 3.18705105,  1.5414342 ,  1.76952391, ..., -0.02503484,\n",
       "        -0.02951453,  0.02385145],\n",
       "       [ 0.82421796,  0.4697605 ,  0.32210267, ...,  0.01396586,\n",
       "         0.01356525,  0.00989091],\n",
       "       [ 1.6892518 ,  1.86492415,  0.34454743, ...,  0.13951192,\n",
       "         0.14022634,  0.1760272 ]])"
      ]
     },
     "execution_count": 79,
     "metadata": {},
     "output_type": "execute_result"
    }
   ],
   "source": [
    "newX"
   ]
  },
  {
   "cell_type": "code",
   "execution_count": 59,
   "metadata": {},
   "outputs": [
    {
     "name": "stdout",
     "output_type": "stream",
     "text": [
      "89580\n"
     ]
    },
    {
     "ename": "IndexError",
     "evalue": "index 89580 is out of bounds for axis 0 with size 9364",
     "output_type": "error",
     "traceback": [
      "\u001b[0;31m---------------------------------------------------------------------------\u001b[0m",
      "\u001b[0;31mIndexError\u001b[0m                                Traceback (most recent call last)",
      "\u001b[0;32m<ipython-input-59-f224d7bd3f1e>\u001b[0m in \u001b[0;36m<module>\u001b[0;34m\u001b[0m\n\u001b[1;32m      9\u001b[0m         \u001b[0mmovie_idx\u001b[0m \u001b[0;34m=\u001b[0m \u001b[0mmov_map\u001b[0m\u001b[0;34m[\u001b[0m\u001b[0mmovieId\u001b[0m\u001b[0;34m]\u001b[0m\u001b[0;34m\u001b[0m\u001b[0;34m\u001b[0m\u001b[0m\n\u001b[1;32m     10\u001b[0m         \u001b[0mprint\u001b[0m\u001b[0;34m(\u001b[0m\u001b[0mmovie_idx\u001b[0m\u001b[0;34m)\u001b[0m\u001b[0;34m\u001b[0m\u001b[0;34m\u001b[0m\u001b[0m\n\u001b[0;32m---> 11\u001b[0;31m         \u001b[0mval\u001b[0m \u001b[0;34m=\u001b[0m \u001b[0mnewX\u001b[0m\u001b[0;34m[\u001b[0m\u001b[0musr\u001b[0m\u001b[0;34m-\u001b[0m\u001b[0;36m1\u001b[0m\u001b[0;34m]\u001b[0m\u001b[0;34m[\u001b[0m\u001b[0mmovie_idx\u001b[0m\u001b[0;34m]\u001b[0m\u001b[0;34m\u001b[0m\u001b[0;34m\u001b[0m\u001b[0m\n\u001b[0m\u001b[1;32m     12\u001b[0m         \u001b[0mpreds\u001b[0m\u001b[0;34m.\u001b[0m\u001b[0mappend\u001b[0m\u001b[0;34m(\u001b[0m\u001b[0mval\u001b[0m\u001b[0;34m)\u001b[0m\u001b[0;34m\u001b[0m\u001b[0;34m\u001b[0m\u001b[0m\n\u001b[1;32m     13\u001b[0m     \u001b[0;32melse\u001b[0m\u001b[0;34m:\u001b[0m\u001b[0;34m\u001b[0m\u001b[0;34m\u001b[0m\u001b[0m\n",
      "\u001b[0;31mIndexError\u001b[0m: index 89580 is out of bounds for axis 0 with size 9364"
     ]
    }
   ],
   "source": [
    "\n",
    "d = pd.DataFrame(newX)\n",
    "test_df = pd.read_csv('ml-latest-small/ratings_test_truth.csv')\n",
    "preds = []\n",
    "for index, row in test_df.iterrows():\n",
    "    movieId = int(row['movieId'])\n",
    "    usr = int(row['userId'])\n",
    "   \n",
    "    if movieId in mov_map:\n",
    "        movie_idx = mov_map[movieId]\n",
    "        print(movie_idx)\n",
    "        val = newX[usr-1][movie_idx]\n",
    "        preds.append(val)\n",
    "    else:\n",
    "        preds.append(4)\n",
    "\n",
    "test_df['pred'] = preds\n",
    "y_true = test_df['rating']\n",
    "y_pred = test_df['pred']\n",
    "\n",
    "print(\"MSE of: \",mean_squared_error(y_true, y_pred))"
   ]
  },
  {
   "cell_type": "code",
   "execution_count": null,
   "metadata": {},
   "outputs": [],
   "source": []
  }
 ],
 "metadata": {
  "kernelspec": {
   "display_name": "Python 3",
   "language": "python",
   "name": "python3"
  },
  "language_info": {
   "codemirror_mode": {
    "name": "ipython",
    "version": 3
   },
   "file_extension": ".py",
   "mimetype": "text/x-python",
   "name": "python",
   "nbconvert_exporter": "python",
   "pygments_lexer": "ipython3",
   "version": "3.7.6"
  }
 },
 "nbformat": 4,
 "nbformat_minor": 4
}
