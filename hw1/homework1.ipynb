{
 "cells": [
  {
   "cell_type": "code",
   "execution_count": 1,
   "metadata": {},
   "outputs": [],
   "source": [
    "from pyspark import SparkContext\n",
    "sc = SparkContext(\"local[*]\",\"PySpark Tutorial\")"
   ]
  },
  {
   "cell_type": "code",
   "execution_count": 2,
   "metadata": {},
   "outputs": [],
   "source": [
    "import json\n",
    "from operator import add\n",
    "file = 'data/Gamergate.json'\n",
    "tweets_file = 'data/tweets'"
   ]
  },
  {
   "cell_type": "code",
   "execution_count": 3,
   "metadata": {},
   "outputs": [],
   "source": [
    "tweets = []\n",
    "for line in open(file, 'r'):\n",
    "    tweets.append(json.loads(line))"
   ]
  },
  {
   "cell_type": "markdown",
   "metadata": {},
   "source": [
    "part 1"
   ]
  },
  {
   "cell_type": "code",
   "execution_count": 4,
   "metadata": {},
   "outputs": [],
   "source": [
    "import numpy as np\n",
    "import statistics"
   ]
  },
  {
   "cell_type": "code",
   "execution_count": 14,
   "metadata": {},
   "outputs": [],
   "source": [
    "followers_map = {}\n",
    "id_map = {}\n",
    "day_map = {}\n",
    "rts = []\n",
    "for t in tweets:\n",
    "    twitter_id = t['user']['id']\n",
    "    screen_name = t['user']['screen_name']\n",
    "    followers = t['user']['followers_count']\n",
    "    day = t['created_at'][:3]\n",
    "    \n",
    "    rts.append(t['retweet_count'])\n",
    "    followers_map[screen_name] = followers\n",
    "    \n",
    "    if twitter_id in id_map:\n",
    "        id_map[twitter_id]+=1\n",
    "    else:\n",
    "        id_map[twitter_id]=1\n",
    "        \n",
    "    if day in day_map:\n",
    "        day_map[day] += 1\n",
    "    else:\n",
    "        day_map[day] = 1\n",
    "        "
   ]
  },
  {
   "cell_type": "code",
   "execution_count": 40,
   "metadata": {},
   "outputs": [
    {
     "name": "stdout",
     "output_type": "stream",
     "text": [
      "Total number of unique twitter accounts is 21049\n"
     ]
    }
   ],
   "source": [
    "print('Total number of unique twitter accounts is', format(len(id_map)))"
   ]
  },
  {
   "cell_type": "code",
   "execution_count": 41,
   "metadata": {},
   "outputs": [
    {
     "name": "stdout",
     "output_type": "stream",
     "text": [
      "Top 3 users are [('washingtonpost', 12584968), ('TheOnion', 11427200), ('WIRED', 10587728)]\n"
     ]
    }
   ],
   "source": [
    "sortedmap = sorted(followers_map.items(), key=lambda x: x[1], reverse=True)\n",
    "print('Top 3 users are', format(sortedmap[:3]))"
   ]
  },
  {
   "cell_type": "code",
   "execution_count": 42,
   "metadata": {},
   "outputs": [
    {
     "data": {
      "text/plain": [
       "{'Tue': 44558, 'Wed': 43454, 'Thu': 16902}"
      ]
     },
     "execution_count": 42,
     "metadata": {},
     "output_type": "execute_result"
    }
   ],
   "source": [
    "day_map"
   ]
  },
  {
   "cell_type": "code",
   "execution_count": 51,
   "metadata": {},
   "outputs": [
    {
     "data": {
      "text/plain": [
       "320.7978465773098"
      ]
     },
     "execution_count": 51,
     "metadata": {},
     "output_type": "execute_result"
    }
   ],
   "source": [
    "statistics.stdev(rts)"
   ]
  },
  {
   "cell_type": "code",
   "execution_count": 6,
   "metadata": {},
   "outputs": [],
   "source": [
    "lines = sc.textFile(file)"
   ]
  },
  {
   "cell_type": "code",
   "execution_count": 4,
   "metadata": {},
   "outputs": [],
   "source": [
    "lineJSONS = lines.map(lambda s: (json.loads(s)))"
   ]
  },
  {
   "cell_type": "code",
   "execution_count": 20,
   "metadata": {},
   "outputs": [
    {
     "data": {
      "text/plain": [
       "[{'retweet_count': 338,\n",
       "  'user': {'description': 'Seattle-based amateur chef and gamer with deep passion for theater and music.',\n",
       "   'followers_count': 582,\n",
       "   'default_profile_image': False,\n",
       "   'profile_image_url_https': 'https://pbs.twimg.com/profile_images/977029984966533120/94BsR1Ae_normal.jpg',\n",
       "   'profile_link_color': 'FF0000',\n",
       "   'created_at': 'Thu Feb 12 19:27:48 +0000 2009',\n",
       "   'profile_use_background_image': True,\n",
       "   'time_zone': 'Pacific Time (US & Canada)',\n",
       "   'has_extended_profile': True,\n",
       "   'following': False,\n",
       "   'translator_type': 'none',\n",
       "   'profile_sidebar_border_color': '65B0DA',\n",
       "   'follow_request_sent': False,\n",
       "   'profile_background_tile': True,\n",
       "   'id': 20708129,\n",
       "   'utc_offset': -25200,\n",
       "   'profile_text_color': '3D1957',\n",
       "   'location': 'Seattle, WA',\n",
       "   'lang': 'en',\n",
       "   'listed_count': 54,\n",
       "   'friends_count': 414,\n",
       "   'profile_sidebar_fill_color': '7AC3EE',\n",
       "   'profile_background_color': '642D8B',\n",
       "   'protected': False,\n",
       "   'profile_image_url': 'http://pbs.twimg.com/profile_images/977029984966533120/94BsR1Ae_normal.jpg',\n",
       "   'profile_banner_url': 'https://pbs.twimg.com/profile_banners/20708129/1506732872',\n",
       "   'name': 'Jacqui Kramer',\n",
       "   'profile_background_image_url': 'http://abs.twimg.com/images/themes/theme7/bg.gif',\n",
       "   'entities': {'description': {'urls': []},\n",
       "    'url': {'urls': [{'url': 'https://t.co/nnl5vlqvd5',\n",
       "       'indices': [0, 23],\n",
       "       'display_url': 'busygamernation.com',\n",
       "       'expanded_url': 'http://www.busygamernation.com'}]}},\n",
       "   'notifications': False,\n",
       "   'url': 'https://t.co/nnl5vlqvd5',\n",
       "   'favourites_count': 2069,\n",
       "   'statuses_count': 14721,\n",
       "   'geo_enabled': False,\n",
       "   'default_profile': False,\n",
       "   'is_translator': False,\n",
       "   'contributors_enabled': False,\n",
       "   'id_str': '20708129',\n",
       "   'is_translation_enabled': False,\n",
       "   'screen_name': 'GrrlGotGame',\n",
       "   'verified': False,\n",
       "   'profile_background_image_url_https': 'https://abs.twimg.com/images/themes/theme7/bg.gif'},\n",
       "  'created_at': 'Tue Oct 21 00:01:01 +0000 2014',\n",
       "  'place': None,\n",
       "  'in_reply_to_screen_name': None,\n",
       "  'truncated': False,\n",
       "  'favorite_count': 0,\n",
       "  'source': '<a href=\"http://stone.com/Twittelator\" rel=\"nofollow\">Twittelator</a>',\n",
       "  'id': 524349599096774656,\n",
       "  'in_reply_to_user_id_str': None,\n",
       "  'text': 'RT @misterbrilliant: First scene from the new series of Firefly has been leaked. #GamerGate http://t.co/5D3OMkwOfd',\n",
       "  'extended_entities': {'media': [{'source_status_id': 523127956492009472,\n",
       "     'display_url': 'pic.twitter.com/5D3OMkwOfd',\n",
       "     'media_url_https': 'https://pbs.twimg.com/media/B0KGGhmCEAAHVhb.jpg',\n",
       "     'media_url': 'http://pbs.twimg.com/media/B0KGGhmCEAAHVhb.jpg',\n",
       "     'source_user_id': 16103528,\n",
       "     'expanded_url': 'https://twitter.com/misterbrilliant/status/523127956492009472/photo/1',\n",
       "     'sizes': {'large': {'h': 409, 'w': 545, 'resize': 'fit'},\n",
       "      'medium': {'h': 409, 'w': 545, 'resize': 'fit'},\n",
       "      'small': {'h': 409, 'w': 545, 'resize': 'fit'},\n",
       "      'thumb': {'h': 150, 'w': 150, 'resize': 'crop'}},\n",
       "     'url': 'http://t.co/5D3OMkwOfd',\n",
       "     'type': 'photo',\n",
       "     'indices': [92, 114],\n",
       "     'source_status_id_str': '523127956492009472',\n",
       "     'id': 523127953383624704,\n",
       "     'id_str': '523127953383624704',\n",
       "     'source_user_id_str': '16103528'}]},\n",
       "  'retweeted': False,\n",
       "  'lang': 'en',\n",
       "  'favorited': False,\n",
       "  'entities': {'media': [{'source_status_id': 523127956492009472,\n",
       "     'display_url': 'pic.twitter.com/5D3OMkwOfd',\n",
       "     'media_url_https': 'https://pbs.twimg.com/media/B0KGGhmCEAAHVhb.jpg',\n",
       "     'media_url': 'http://pbs.twimg.com/media/B0KGGhmCEAAHVhb.jpg',\n",
       "     'source_user_id': 16103528,\n",
       "     'expanded_url': 'https://twitter.com/misterbrilliant/status/523127956492009472/photo/1',\n",
       "     'sizes': {'large': {'h': 409, 'w': 545, 'resize': 'fit'},\n",
       "      'medium': {'h': 409, 'w': 545, 'resize': 'fit'},\n",
       "      'small': {'h': 409, 'w': 545, 'resize': 'fit'},\n",
       "      'thumb': {'h': 150, 'w': 150, 'resize': 'crop'}},\n",
       "     'url': 'http://t.co/5D3OMkwOfd',\n",
       "     'type': 'photo',\n",
       "     'indices': [92, 114],\n",
       "     'source_status_id_str': '523127956492009472',\n",
       "     'id': 523127953383624704,\n",
       "     'id_str': '523127953383624704',\n",
       "     'source_user_id_str': '16103528'}],\n",
       "   'hashtags': [{'text': 'GamerGate', 'indices': [81, 91]}],\n",
       "   'symbols': [],\n",
       "   'urls': [],\n",
       "   'user_mentions': [{'id': 16103528,\n",
       "     'id_str': '16103528',\n",
       "     'indices': [3, 19],\n",
       "     'screen_name': 'misterbrilliant',\n",
       "     'name': 'Steve Hogarty'}]},\n",
       "  'retweeted_status': {'retweet_count': 338,\n",
       "   'user': {'description': 'a writer for cool magazines about stuff, also @CityAM gadget and travel man',\n",
       "    'followers_count': 17030,\n",
       "    'default_profile_image': False,\n",
       "    'profile_image_url_https': 'https://pbs.twimg.com/profile_images/1520699808/16969_295786569338_504369338_3200925_5347851_n_normal.jpg',\n",
       "    'profile_link_color': 'FF3300',\n",
       "    'created_at': 'Tue Sep 02 21:39:11 +0000 2008',\n",
       "    'profile_use_background_image': True,\n",
       "    'time_zone': 'London',\n",
       "    'has_extended_profile': False,\n",
       "    'following': False,\n",
       "    'translator_type': 'none',\n",
       "    'profile_sidebar_border_color': '86A4A6',\n",
       "    'follow_request_sent': False,\n",
       "    'profile_background_tile': True,\n",
       "    'id': 16103528,\n",
       "    'utc_offset': 3600,\n",
       "    'profile_text_color': '333333',\n",
       "    'location': 'London, England',\n",
       "    'lang': 'en',\n",
       "    'listed_count': 344,\n",
       "    'friends_count': 277,\n",
       "    'profile_sidebar_fill_color': 'FFFFFF',\n",
       "    'profile_background_color': '709397',\n",
       "    'protected': False,\n",
       "    'profile_image_url': 'http://pbs.twimg.com/profile_images/1520699808/16969_295786569338_504369338_3200925_5347851_n_normal.jpg',\n",
       "    'profile_banner_url': 'https://pbs.twimg.com/profile_banners/16103528/1398439650',\n",
       "    'name': 'Steve Hogarty',\n",
       "    'profile_background_image_url': 'http://abs.twimg.com/images/themes/theme6/bg.gif',\n",
       "    'entities': {'description': {'urls': []},\n",
       "     'url': {'urls': [{'url': 'https://t.co/UKHUE7PYpL',\n",
       "        'indices': [0, 23],\n",
       "        'display_url': 'misterbrilliant.com',\n",
       "        'expanded_url': 'http://misterbrilliant.com'}]}},\n",
       "    'notifications': False,\n",
       "    'url': 'https://t.co/UKHUE7PYpL',\n",
       "    'favourites_count': 1389,\n",
       "    'statuses_count': 16411,\n",
       "    'geo_enabled': False,\n",
       "    'default_profile': False,\n",
       "    'is_translator': False,\n",
       "    'contributors_enabled': False,\n",
       "    'id_str': '16103528',\n",
       "    'is_translation_enabled': False,\n",
       "    'screen_name': 'misterbrilliant',\n",
       "    'verified': True,\n",
       "    'profile_background_image_url_https': 'https://abs.twimg.com/images/themes/theme6/bg.gif'},\n",
       "   'created_at': 'Fri Oct 17 15:06:38 +0000 2014',\n",
       "   'place': None,\n",
       "   'in_reply_to_screen_name': None,\n",
       "   'truncated': False,\n",
       "   'favorite_count': 469,\n",
       "   'source': '<a href=\"https://about.twitter.com/products/tweetdeck\" rel=\"nofollow\">TweetDeck</a>',\n",
       "   'id': 523127956492009472,\n",
       "   'in_reply_to_user_id_str': None,\n",
       "   'text': 'First scene from the new series of Firefly has been leaked. #GamerGate http://t.co/5D3OMkwOfd',\n",
       "   'extended_entities': {'media': [{'sizes': {'large': {'h': 409,\n",
       "        'w': 545,\n",
       "        'resize': 'fit'},\n",
       "       'medium': {'h': 409, 'w': 545, 'resize': 'fit'},\n",
       "       'small': {'h': 409, 'w': 545, 'resize': 'fit'},\n",
       "       'thumb': {'h': 150, 'w': 150, 'resize': 'crop'}},\n",
       "      'url': 'http://t.co/5D3OMkwOfd',\n",
       "      'type': 'photo',\n",
       "      'indices': [71, 93],\n",
       "      'display_url': 'pic.twitter.com/5D3OMkwOfd',\n",
       "      'media_url_https': 'https://pbs.twimg.com/media/B0KGGhmCEAAHVhb.jpg',\n",
       "      'media_url': 'http://pbs.twimg.com/media/B0KGGhmCEAAHVhb.jpg',\n",
       "      'id': 523127953383624704,\n",
       "      'id_str': '523127953383624704',\n",
       "      'expanded_url': 'https://twitter.com/misterbrilliant/status/523127956492009472/photo/1'}]},\n",
       "   'retweeted': False,\n",
       "   'lang': 'en',\n",
       "   'favorited': False,\n",
       "   'entities': {'media': [{'sizes': {'large': {'h': 409,\n",
       "        'w': 545,\n",
       "        'resize': 'fit'},\n",
       "       'medium': {'h': 409, 'w': 545, 'resize': 'fit'},\n",
       "       'small': {'h': 409, 'w': 545, 'resize': 'fit'},\n",
       "       'thumb': {'h': 150, 'w': 150, 'resize': 'crop'}},\n",
       "      'url': 'http://t.co/5D3OMkwOfd',\n",
       "      'type': 'photo',\n",
       "      'indices': [71, 93],\n",
       "      'display_url': 'pic.twitter.com/5D3OMkwOfd',\n",
       "      'media_url_https': 'https://pbs.twimg.com/media/B0KGGhmCEAAHVhb.jpg',\n",
       "      'media_url': 'http://pbs.twimg.com/media/B0KGGhmCEAAHVhb.jpg',\n",
       "      'id': 523127953383624704,\n",
       "      'id_str': '523127953383624704',\n",
       "      'expanded_url': 'https://twitter.com/misterbrilliant/status/523127956492009472/photo/1'}],\n",
       "    'hashtags': [{'text': 'GamerGate', 'indices': [60, 70]}],\n",
       "    'symbols': [],\n",
       "    'urls': [],\n",
       "    'user_mentions': []},\n",
       "   'contributors': None,\n",
       "   'in_reply_to_user_id': None,\n",
       "   'is_quote_status': False,\n",
       "   'coordinates': None,\n",
       "   'id_str': '523127956492009472',\n",
       "   'in_reply_to_status_id_str': None,\n",
       "   'geo': None,\n",
       "   'possibly_sensitive': False,\n",
       "   'in_reply_to_status_id': None},\n",
       "  'contributors': None,\n",
       "  'in_reply_to_user_id': None,\n",
       "  'is_quote_status': False,\n",
       "  'coordinates': None,\n",
       "  'id_str': '524349599096774656',\n",
       "  'in_reply_to_status_id_str': None,\n",
       "  'geo': None,\n",
       "  'possibly_sensitive': False,\n",
       "  'in_reply_to_status_id': None}]"
      ]
     },
     "execution_count": 20,
     "metadata": {},
     "output_type": "execute_result"
    }
   ],
   "source": [
    "lineJSONS.take(1)"
   ]
  },
  {
   "cell_type": "code",
   "execution_count": 5,
   "metadata": {},
   "outputs": [],
   "source": [
    "userJSONS = lineJSONS.map(lambda x: x['user'])"
   ]
  },
  {
   "cell_type": "code",
   "execution_count": 6,
   "metadata": {},
   "outputs": [],
   "source": [
    "users = lineJSONS.map(lambda x: x['user']['id'])"
   ]
  },
  {
   "cell_type": "code",
   "execution_count": 8,
   "metadata": {},
   "outputs": [
    {
     "data": {
      "text/plain": [
       "21049"
      ]
     },
     "execution_count": 8,
     "metadata": {},
     "output_type": "execute_result"
    }
   ],
   "source": [
    "users.distinct().count()"
   ]
  },
  {
   "cell_type": "code",
   "execution_count": 16,
   "metadata": {},
   "outputs": [],
   "source": [
    "created = lineJSONS.map(lambda x: x['created_at'])"
   ]
  },
  {
   "cell_type": "code",
   "execution_count": 19,
   "metadata": {},
   "outputs": [
    {
     "data": {
      "text/plain": [
       "104914"
      ]
     },
     "execution_count": 19,
     "metadata": {},
     "output_type": "execute_result"
    }
   ],
   "source": [
    "created.count()"
   ]
  },
  {
   "cell_type": "code",
   "execution_count": 14,
   "metadata": {},
   "outputs": [],
   "source": [
    "follows = userJSONS.map(lambda x: (x['screen_name'], x['followers_count']))"
   ]
  },
  {
   "cell_type": "code",
   "execution_count": 22,
   "metadata": {},
   "outputs": [],
   "source": [
    "top3 = follows.sortBy(lambda x: x[1], ascending=False).collect()[:3]"
   ]
  },
  {
   "cell_type": "code",
   "execution_count": 23,
   "metadata": {},
   "outputs": [
    {
     "data": {
      "text/plain": [
       "[('washingtonpost', 12584968), ('TheOnion', 11427200), ('WIRED', 10587728)]"
      ]
     },
     "execution_count": 23,
     "metadata": {},
     "output_type": "execute_result"
    }
   ],
   "source": [
    "top3"
   ]
  },
  {
   "cell_type": "code",
   "execution_count": 53,
   "metadata": {},
   "outputs": [
    {
     "data": {
      "text/plain": [
       "12584968"
      ]
     },
     "execution_count": 53,
     "metadata": {},
     "output_type": "execute_result"
    }
   ],
   "source": [
    "follows[0]['followers_count']"
   ]
  },
  {
   "cell_type": "code",
   "execution_count": 61,
   "metadata": {},
   "outputs": [],
   "source": [
    "tuesdays = lineJSONS.filter(lambda x: x['created_at'][:3] == 'Tue')"
   ]
  },
  {
   "cell_type": "code",
   "execution_count": 62,
   "metadata": {},
   "outputs": [
    {
     "data": {
      "text/plain": [
       "44558"
      ]
     },
     "execution_count": 62,
     "metadata": {},
     "output_type": "execute_result"
    }
   ],
   "source": [
    "tuesdays.count()"
   ]
  },
  {
   "cell_type": "code",
   "execution_count": 74,
   "metadata": {},
   "outputs": [
    {
     "data": {
      "text/plain": [
       "'RT @misterbrilliant: First scene from the new series of Firefly has been leaked. #GamerGate http://t.co/5D3OMkwOfd'"
      ]
     },
     "execution_count": 74,
     "metadata": {},
     "output_type": "execute_result"
    }
   ],
   "source": [
    "lineJSONS.take(1)[0]['text']"
   ]
  },
  {
   "cell_type": "markdown",
   "metadata": {},
   "source": [
    "part 2"
   ]
  },
  {
   "cell_type": "code",
   "execution_count": 64,
   "metadata": {},
   "outputs": [],
   "source": [
    "rts = lineJSONS.map(lambda x: x['retweet_count'])"
   ]
  },
  {
   "cell_type": "code",
   "execution_count": 66,
   "metadata": {},
   "outputs": [
    {
     "data": {
      "text/plain": [
       "114.46304592332771"
      ]
     },
     "execution_count": 66,
     "metadata": {},
     "output_type": "execute_result"
    }
   ],
   "source": [
    "rts.mean()"
   ]
  },
  {
   "cell_type": "code",
   "execution_count": 67,
   "metadata": {},
   "outputs": [
    {
     "data": {
      "text/plain": [
       "7181"
      ]
     },
     "execution_count": 67,
     "metadata": {},
     "output_type": "execute_result"
    }
   ],
   "source": [
    "rts.max()"
   ]
  },
  {
   "cell_type": "code",
   "execution_count": 69,
   "metadata": {},
   "outputs": [
    {
     "data": {
      "text/plain": [
       "320.7963177126635"
      ]
     },
     "execution_count": 69,
     "metadata": {},
     "output_type": "execute_result"
    }
   ],
   "source": [
    "rts.stdev()"
   ]
  },
  {
   "cell_type": "markdown",
   "metadata": {},
   "source": [
    "part 3"
   ]
  },
  {
   "cell_type": "code",
   "execution_count": 7,
   "metadata": {},
   "outputs": [],
   "source": [
    "ts = lines.flatMap(lambda x: x.split(' '))\n",
    "ks = ts.map(lambda x: (x,1)).reduceByKey(add)"
   ]
  },
  {
   "cell_type": "code",
   "execution_count": 8,
   "metadata": {},
   "outputs": [
    {
     "data": {
      "text/plain": [
       "[('{\"description\":', 334694)]"
      ]
     },
     "execution_count": 8,
     "metadata": {},
     "output_type": "execute_result"
    }
   ],
   "source": [
    "ks.take(1)"
   ]
  },
  {
   "cell_type": "code",
   "execution_count": 9,
   "metadata": {},
   "outputs": [],
   "source": [
    "m = ks.filter(lambda x: x[0] == 'mindless').collect()"
   ]
  },
  {
   "cell_type": "code",
   "execution_count": 10,
   "metadata": {},
   "outputs": [
    {
     "data": {
      "text/plain": [
       "[('mindless', 262)]"
      ]
     },
     "execution_count": 10,
     "metadata": {},
     "output_type": "execute_result"
    }
   ],
   "source": [
    "m"
   ]
  },
  {
   "cell_type": "code",
   "execution_count": 6,
   "metadata": {},
   "outputs": [],
   "source": [
    "tweetlines = sc.textFile(tweets_file)"
   ]
  },
  {
   "cell_type": "code",
   "execution_count": 7,
   "metadata": {},
   "outputs": [
    {
     "data": {
      "text/plain": [
       "21441"
      ]
     },
     "execution_count": 7,
     "metadata": {},
     "output_type": "execute_result"
    }
   ],
   "source": [
    "tweetlines.count()"
   ]
  },
  {
   "cell_type": "code",
   "execution_count": 8,
   "metadata": {},
   "outputs": [],
   "source": [
    "tweets = tweetlines.flatMap(lambda x: x.split(' '))\n",
    "keys = tweets.map(lambda x: (x,1)).reduceByKey(add)\n"
   ]
  },
  {
   "cell_type": "code",
   "execution_count": 9,
   "metadata": {},
   "outputs": [],
   "source": [
    "freq = keys.map(lambda x: (x[1], x[0])).sortByKey(False).take(1)"
   ]
  },
  {
   "cell_type": "code",
   "execution_count": 10,
   "metadata": {},
   "outputs": [
    {
     "data": {
      "text/plain": [
       "[(149569, '#gamergate')]"
      ]
     },
     "execution_count": 10,
     "metadata": {},
     "output_type": "execute_result"
    }
   ],
   "source": [
    "freq"
   ]
  },
  {
   "cell_type": "code",
   "execution_count": 31,
   "metadata": {},
   "outputs": [
    {
     "data": {
      "text/plain": [
       "'#gamergate'"
      ]
     },
     "execution_count": 31,
     "metadata": {},
     "output_type": "execute_result"
    }
   ],
   "source": [
    "freq[0][1]"
   ]
  },
  {
   "cell_type": "code",
   "execution_count": 178,
   "metadata": {},
   "outputs": [],
   "source": [
    "mindless = keys.filter(lambda x: x[0] == 'mindless').collect()"
   ]
  },
  {
   "cell_type": "code",
   "execution_count": 179,
   "metadata": {},
   "outputs": [
    {
     "data": {
      "text/plain": [
       "[('mindless', 206)]"
      ]
     },
     "execution_count": 179,
     "metadata": {},
     "output_type": "execute_result"
    }
   ],
   "source": [
    "mindless"
   ]
  },
  {
   "cell_type": "code",
   "execution_count": 180,
   "metadata": {},
   "outputs": [
    {
     "data": {
      "text/plain": [
       "['|********************', 'rt']"
      ]
     },
     "execution_count": 180,
     "metadata": {},
     "output_type": "execute_result"
    }
   ],
   "source": [
    "tweets.take(2)"
   ]
  },
  {
   "cell_type": "code",
   "execution_count": 68,
   "metadata": {},
   "outputs": [],
   "source": [
    "chunks = keys.filter(lambda x: x[0] == '|********************'  or x[0] == '********************|')"
   ]
  },
  {
   "cell_type": "code",
   "execution_count": 70,
   "metadata": {},
   "outputs": [
    {
     "data": {
      "text/plain": [
       "[('|********************', 21441), ('********************|', 21441)]"
      ]
     },
     "execution_count": 70,
     "metadata": {},
     "output_type": "execute_result"
    }
   ],
   "source": [
    "chunks.take(2)"
   ]
  },
  {
   "cell_type": "code",
   "execution_count": 185,
   "metadata": {},
   "outputs": [
    {
     "data": {
      "text/plain": [
       "PythonRDD[169] at RDD at PythonRDD.scala:53"
      ]
     },
     "execution_count": 185,
     "metadata": {},
     "output_type": "execute_result"
    }
   ],
   "source": [
    "keys"
   ]
  },
  {
   "cell_type": "code",
   "execution_count": 186,
   "metadata": {},
   "outputs": [
    {
     "data": {
      "text/plain": [
       "[('|********************', 21441), ('scene', 88), ('new', 3666)]"
      ]
     },
     "execution_count": 186,
     "metadata": {},
     "output_type": "execute_result"
    }
   ],
   "source": [
    "keys.take(3)"
   ]
  },
  {
   "cell_type": "code",
   "execution_count": null,
   "metadata": {},
   "outputs": [],
   "source": []
  }
 ],
 "metadata": {
  "kernelspec": {
   "display_name": "Python 3",
   "language": "python",
   "name": "python3"
  },
  "language_info": {
   "codemirror_mode": {
    "name": "ipython",
    "version": 3
   },
   "file_extension": ".py",
   "mimetype": "text/x-python",
   "name": "python",
   "nbconvert_exporter": "python",
   "pygments_lexer": "ipython3",
   "version": "3.7.6"
  }
 },
 "nbformat": 4,
 "nbformat_minor": 4
}
